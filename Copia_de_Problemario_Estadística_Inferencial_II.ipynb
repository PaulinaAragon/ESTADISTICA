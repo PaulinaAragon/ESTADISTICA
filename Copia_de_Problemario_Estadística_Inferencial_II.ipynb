{
  "nbformat": 4,
  "nbformat_minor": 0,
  "metadata": {
    "colab": {
      "provenance": [],
      "toc_visible": true,
      "include_colab_link": true
    },
    "kernelspec": {
      "name": "python3",
      "display_name": "Python 3"
    },
    "language_info": {
      "name": "python"
    }
  },
  "cells": [
    {
      "cell_type": "markdown",
      "metadata": {
        "id": "view-in-github",
        "colab_type": "text"
      },
      "source": [
        "<a href=\"https://colab.research.google.com/github/PaulinaAragon/ESTADISTICA/blob/main/Copia_de_Problemario_Estad%C3%ADstica_Inferencial_II.ipynb\" target=\"_parent\"><img src=\"https://colab.research.google.com/assets/colab-badge.svg\" alt=\"Open In Colab\"/></a>"
      ]
    },
    {
      "cell_type": "markdown",
      "source": [
        "# Unidad 1. Regresión lineal simple y correlación"
      ],
      "metadata": {
        "id": "TVAzcQ4lsIje"
      }
    },
    {
      "cell_type": "markdown",
      "source": [
        "## Medidas de dispersión\n",
        "Suma de los cuadrados de las desviaciones de los valores de $X$ con respecto a su media:\n",
        "$$ S_{xx} = \\sum_{i=1}^{n} (X_i - \\bar{X})^2 $$\n",
        "Suma de los productos de las desviaciones de los valores de $X$ y $Y$ con respecto a sus medias:\n",
        "$$S_{xy} = \\sum_{i=1}^{n} (X_i - \\bar{X})(Y_i - \\bar{Y})$$\n",
        "Suma de los cuadrados de las desviaciones de los valores de $Y$ con respecto a su media:\n",
        "$$ S_{xx} = \\sum_{i=1}^{n} (Y_i - \\bar{Y})^2 $$\n"
      ],
      "metadata": {
        "id": "rh_egttcs5VI"
      }
    },
    {
      "cell_type": "markdown",
      "source": [
        "## Coeficiente de correlación y de determinación\n",
        "Coeficiente de correlación de Pearson:\n",
        "$$ r = \\frac{S_{xy}}{\\sqrt{S_{xx} \\cdot S_{yy}}} $$\n",
        "Coeficiente de determinación:\n",
        "$$ r^2 $$"
      ],
      "metadata": {
        "id": "BqCWSQNGvU22"
      }
    },
    {
      "cell_type": "markdown",
      "source": [
        "## Recta de regresión ajustada\n",
        "La regresión lineal ajustada se representa mediante estadísticos:\n",
        "$$ \\hat{Y} = b_0 + b_1 X $$\n",
        "donde $\\hat{Y}$ representa el valor de $Y$ obtenido mediante la recta de regresión ajustada (no la verdadera $Y$). Los estadísticos $b_0$ y $b_1$ se calculan de la siguiente manera:\n",
        "\n",
        "$$b_1 = \\frac{S_{xy}}{S_{xx}}$$\n",
        "\n",
        "$$ b_0 = \\bar{Y} - b_1 \\bar{X} $$"
      ],
      "metadata": {
        "id": "MTxWw-C7vjOt"
      }
    },
    {
      "cell_type": "markdown",
      "source": [
        "## Cálculo de residuales\n",
        "Residuales:\n",
        "$$e_i = Y_i - \\hat{Y}_i$$"
      ],
      "metadata": {
        "id": "Tng5HL6e2ioR"
      }
    },
    {
      "cell_type": "markdown",
      "source": [
        "## Sumas de cuadrados SS (Sum of Squares)\n",
        "Suma de los Cuadrados de los Errores:\n",
        "$$ SSE = \\sum_{i=1}^{n} (Y_i - \\hat{Y}_i)^2 = \\sum_{i=1}^n e_i^2$$\n",
        "Suma total de cuadrados:\n",
        "$$SST = \\sum_{i=1}^{n} (Y_i - \\bar{Y})^2$$\n",
        "Suma de cuadrados de regresión:\n",
        "$$SSR = \\sum_{i=1}^{n} (\\hat{Y_i} - \\bar{Y})^2$$\n",
        "- SST: Mide la variabilidad total de los datos observados.\n",
        "- SSR: Mide la variabilidad de los datos que el modelo de regresión explica.\n",
        "- SSE: Mide la variabilidad no explicada por el modelo (es decir, los residuos).\n"
      ],
      "metadata": {
        "id": "1tKbBa4T3dQH"
      }
    },
    {
      "cell_type": "markdown",
      "source": [
        "## Intervalo de confianza\n",
        "Estadístico de prueba _t_:\n",
        "$$t = \\frac{b_1}{SE(b_1)}$$\n",
        "Error estándar de $b_1$:\n",
        "$$SE(b_1) = \\frac{\\sqrt{SSE / (n-2)}}   {\\sqrt{S_{xx}} }$$\n",
        "Intervalo de confianza para $b_1$:\n",
        "$$b_1 - t_{\\alpha/2} \\cdot SE(b_1) \\lt \\beta_1 \\lt b_1 + t_{\\alpha/2} \\cdot SE(b_1)$$\n",
        "donde $n$ representa la cantidad de pares de datos."
      ],
      "metadata": {
        "id": "fL4VVE5GRLg6"
      }
    },
    {
      "cell_type": "markdown",
      "source": [
        "## Comprobación de supuestos\n",
        "Comprobar suposiciones:\n",
        "- Test de shapiro a los residuales $e_i$: Para comprobar si la distribución es normal sobre la recta.\n",
        "- Grafico $X$ vs $Y$: Para observar si los datos soportan la suposición de linealidad.\n",
        "- Gráfico de residuales: Para observar si los datos soportan la suposición de linealidad, complementario al coeficiente de correlación\n",
        "- Test de Breusch-Pagan: Para detectar heteroscedasticidad en regresion lineal"
      ],
      "metadata": {
        "id": "s61W7Msz8BsH"
      }
    },
    {
      "cell_type": "markdown",
      "source": [
        "Test de Shapiro:<br>\n",
        "`from scipy.stats import shapiro`<br>\n",
        "Después, se obtiene el valor-p:<br>\n",
        "`_, valor_p_sh = shapiro(data)`<br>\n",
        "- $H_0$: Los datos siguen una distribución normal\n",
        "- $H_1$: Los datos no siguen una distribución normal"
      ],
      "metadata": {
        "id": "IbD1iORXB5Wv"
      }
    },
    {
      "cell_type": "markdown",
      "source": [
        "Test de Breusch-Pagan:<br>\n",
        "`from statsmodels.stats.api import het_breuschpagan`<br>\n",
        "Después, se obtiene el valor-p:<br>\n",
        "`_, valor_p_bp, _, _ = het_breuschpagan(residuales, X)`\n",
        "- $H_0$: Hay homoscedasticidad\n",
        "- $H_1$: Hay heteroscedasticidad"
      ],
      "metadata": {
        "id": "b12qtYRqDWC1"
      }
    },
    {
      "cell_type": "markdown",
      "source": [
        "## ANOVA en regresión lineal\n",
        "\n",
        "| Fuente de variación | Suma de cuadrados (SS) | Grados de libertad (df) | Promedio de los cuadrados (MS) | Estadístico F |\n",
        "|---------------------|------------------------|--------------------------|--------------------------------|---------------|\n",
        "| Regresión  | $ SSR$ | $p$ | $MSR = \\frac{SSR}{p}$ | $F = \\frac{MSR}{MSE}$|\n",
        "| Error | $SSE$| $n - p - 1 $| $MSE = \\frac{SSE}{n - p - 1} $|     |\n",
        "| Total | $SST $| $n - 1$|             |        |\n",
        "\n",
        "donde $p$ es el número de parámetros para la recta de regresión ajustada (en la regresión simple $p=1$). Las hipótesis son:\n",
        "$$H_0: \\beta_1 = 0$$\n",
        "$$H_1: \\beta_1 \\ne 0 $$"
      ],
      "metadata": {
        "id": "5jtxbLDlB3zw"
      }
    },
    {
      "cell_type": "markdown",
      "source": [
        "## Problemario de la Unidad 1"
      ],
      "metadata": {
        "id": "MCDhN4YtFTGP"
      }
    },
    {
      "cell_type": "markdown",
      "source": [
        "### Problema 1\n",
        "Un profesor intenta mostrar a sus estudiantes la importancia de los exámenes cortos, aun cuando el 90% de la calificación final esté determinada por los exámenes parciales. Él cree que cuanto más altas sean las calificaciones de los exámenes cortos, más alta será la calificación final. Seleccionó una muestra aleatoria de 15 estudiantes de su clase con los siguientes datos:\n",
        "\n",
        "| Promedio de exámenes cortos | Promedio final |\n",
        "|--------------|--------------|\n",
        "| 59 | 64 |\n",
        "| 92 | 84 |\n",
        "| 72 | 77 |\n",
        "| 90 | 80 |\n",
        "| 95 | 77 |\n",
        "| 87 | 81 |\n",
        "| 89 | 80 |\n",
        "| 77 | 84 |\n",
        "| 76 | 80 |\n",
        "| 65 | 69 |\n",
        "| 97 | 83 |\n",
        "| 42 | 40 |\n",
        "| 94 | 78 |\n",
        "| 62 | 65 |\n",
        "| 91 | 90 |\n",
        "\n",
        "\n",
        "\n",
        "1.   Establesca una variable dependiente ($Y$) y una variable independiente ($X$).\n",
        "2.   Realice un diagrama de dispersión para estos datos.\n",
        "3. ¿Los datos soportan la suposición de linealidad?\n",
        "4. Calcule el coeficiente de correlación e interprete el resultado.\n",
        "5. Calcule el coeficiente de determinación e interprete el resultado.\n",
        "6. Obtenga la recta de regresión ajustada y grafíquelo sobre el gráfico de dispersión.\n",
        "7. Obtenga un intervalo de confianza del 95% para la pendiente de la recta de regresión ajustada ($b_1$)\n",
        "8. Calcule los residuales y trace un nuevo gráfico de dispersión. Comente, ¿Parece que se verifican los supuestos?\n",
        "9. Realice la prueba de Shapiro para los residuales y comente el resultado.\n",
        "10. Realice la prueba de Brausch-Pagan para los residuales y comente el resultado.\n",
        "11. Tres estudiantes sacaron 70, 75 y 84 de calificación. Según la recta de regresión ajustada, ¿cuáles son los resultados esperados para estos tres alumnos?\n",
        "12. Realice una tabla ANOVA e interprete el resultado.\n",
        "\n"
      ],
      "metadata": {
        "id": "xDXxbFV88kQo"
      }
    },
    {
      "cell_type": "code",
      "source": [
        "# 1.Establesca una variable dependiente ( Y ) y una variable\n",
        "# independiente ( X ).\n",
        "# variable independiente: examenes cortos\n",
        "# variable dependiente: examen final\n",
        "import numpy as np\n",
        "\n",
        "x= np.array([59,92,72,90,95,87,89,77,76,65,97,42,94,62,91])\n",
        "y= np.array ([64,84,77,80,77,81,80,84,80,69,83,40,78,65,90])\n",
        "\n",
        "# 2. Realice un diagrama de dispersión para estos datos.\n",
        "import matplotlib.pyplot as plt\n",
        "\n",
        "plt.scatter(x,y, color=\"blue\")\n",
        "plt.xlabel(\"examenes cortos\")\n",
        "plt.ylabel(\"examen final\")\n",
        "plt.title(\"Grafico de dispersion\")\n",
        "plt.grid()\n",
        "\n",
        "#3. ¿Los datos soportan la suposición de linealidad?\n",
        "\n",
        "# 4. Calcule el coeficiente de correlación e interprete el resultado.\n",
        "Sxx= np.sum((x-np.mean(x))**2)\n",
        "Sxy= np.sum((x-np.mean(x))*(y-np.mean(y)))\n",
        "Syy= np.sum((y-np.mean(y))**2)\n",
        "r= Sxy / np.sqrt(Sxx * Syy)\n",
        "print(\"coeficiente de correlacion\",r)\n",
        "\n",
        "#5.Calcule el coeficiente de determinación e interprete el resultado.\n",
        "print(\"coeficiente de determinacion\", r **2)\n",
        "\n",
        "b1= Sxy / Sxx\n",
        "b0= np.mean(y) - b1 * np.mean(x)\n",
        "print(f\"pendiente: {b1}\")\n",
        "print (f\"intercepto: {b0}\")\n",
        "\n",
        "Yc= b1 * x + b0\n",
        "\n",
        "\n",
        "#7. Obtenga un intervalo de confianza del 95% para la pendiente de la recta de regresión ajustada (b1)\n",
        "# 1.Establesca una variable dependiente ( Y ) y una variable\n",
        "# independiente ( X ).\n",
        "# variable independiente: examenes cortos\n",
        "# variable dependiente: examen final\n",
        "import numpy as np\n",
        "\n",
        "x= np.array([59,92,72,90,95,87,89,77,76,65,97,42,94,62,91])\n",
        "y= np.array ([64,84,77,80,77,81,80,84,80,69,83,40,78,65,90])\n",
        "\n",
        "# 2. Realice un diagrama de dispersión para estos datos.\n",
        "import matplotlib.pyplot as plt\n",
        "\n",
        "plt.scatter(x,y, color=\"blue\")\n",
        "plt.xlabel(\"examenes cortos\")\n",
        "plt.ylabel(\"examen final\")\n",
        "plt.title(\"Grafico de dispersion\")\n",
        "plt.grid()\n",
        "\n",
        "#3. ¿Los datos soportan la suposición de linealidad?\n",
        "\n",
        "# 4. Calcule el coeficiente de correlación e interprete el resultado.\n",
        "Sxx= np.sum((x-np.mean(x))**2)\n",
        "Sxy= np.sum((x-np.mean(x))*(y-np.mean(y)))\n",
        "Syy= np.sum((y-np.mean(y))**2)\n",
        "r= Sxy / np.sqrt(Sxx * Syy)\n",
        "print(\"coeficiente de correlacion\",r)\n",
        "\n",
        "#5.Calcule el coeficiente de determinación e interprete el resultado.\n",
        "print(\"coeficiente de determinacion\", r **2)\n",
        "\n",
        "b1= Sxy / Sxx\n",
        "b0= np.mean(y) - b1 * np.mean(x)\n",
        "print(f\"pendiente: {b1}\")\n",
        "print (f\"intercepto: {b0}\")\n",
        "\n",
        "Yc= b1 * x + b0\n",
        "plt.plot(x, Yc, color = \"red\")\n",
        "\n",
        "#7. Obtenga un intervalo de confianza del 95% para la pendiente de la recta de regresión ajustada (b1)\n",
        "from scipy.stats import t\n",
        "nivel_de_significancia = 0.05\n",
        "t= t.ppf(1- nivel_de_significancia / 2, len(y) - 2)\n",
        "se_b1 = np.sqrt (np.sum((y - Yc)**2) / (len(y) - 2)) / np.sqrt(Sxx)\n",
        "confianza_b1 = (b1 - t * se_b1, b1 + t * se_b1)\n",
        "print(f\"intervalo de confianza para b1: {confianza_b1}\")\n",
        "\n",
        "#8. Calcule los residuales y trace un nuevo gráfico de dispersión. Comente, ¿Parece que se verifican los supuestos?\n",
        "residuales= y-Yc\n",
        "plt.figure()\n",
        "plt.grid()\n",
        "plt.scatter(x, residuales, color=\"green\")\n",
        "plt.xlabel(\"examenes cortos\")\n",
        "plt.ylabel(\"residuales\")\n",
        "plt.title(\"grafico de residuales\")\n",
        "plt.axhline(y=0, color=\"blue\", linestyle=\"--\")\n",
        "print(\"respuesta 8= no se verifican\")\n",
        "\n",
        "#9. Realice la prueba de Shapiro para los residuales y comente el resultado.\n",
        "from scipy.stats import shapiro\n",
        "_,valor_p_sh = shapiro(residuales)\n",
        "print(f\"valor_p de shepiro:{valor_p_sh}\")\n",
        "\n",
        "#10. Realice la prueba de Brausch-Pagan para los residuales y comente el resultado.\n",
        "\n",
        "\n",
        "#11. Tres estudiantes sacaron 70\n",
        "#resultados esperados de los estudiantes.\n",
        "print(\"cal 1:\", 70*b1+b0)\n",
        "print(\"cal 2:\", 75*b1+b0)\n",
        "print(\"cal 3\", 84*b1+b0)\n",
        "\n",
        "#12. Realice una tabla ANOVA e interprete el resultado.\n",
        "import scipy.stats as st\n",
        "print(f\"Sxx: {Sxx}\")\n",
        "print(f\"Sxy: {Sxy}\")\n",
        "print(f\"Syy: {Syy}\")\n",
        "print(f\"SSE: {np.sum(residuales**2)}\")\n",
        "print(f\"SST: {np.sum((y-np.mean(y))**2)}\")\n",
        "print(f\"SSR: {np.sum((Yc-np.mean(y))**2)}\")\n",
        "print(f\"MSR: {np.sum((Yc-np.mean(y))**2)/1}\")\n",
        "print(f\"MSE: {np.sum(residuales**2)/(len(y)-2)}\")\n",
        "print(f\"p_value: {1-st.f.cdf((np.sum((Yc-np.mean(y))*2)/1)/(np.sum(residuales*2)/(len(y)-2)),1,len(y)-2)}\")\n"
      ],
      "metadata": {
        "id": "6e2t8OlC337R",
        "colab": {
          "base_uri": "https://localhost:8080/",
          "height": 1000
        },
        "outputId": "1e4f390c-7c53-43fd-eb95-444792e2b565"
      },
      "execution_count": 4,
      "outputs": [
        {
          "output_type": "stream",
          "name": "stdout",
          "text": [
            "coeficiente de correlacion 0.8646014213752985\n",
            "coeficiente de determinacion 0.7475356178441864\n",
            "pendiente: 0.6431798623063684\n",
            "intercepto: 24.52682157200229\n",
            "coeficiente de correlacion 0.8646014213752985\n",
            "coeficiente de determinacion 0.7475356178441864\n",
            "pendiente: 0.6431798623063684\n",
            "intercepto: 24.52682157200229\n",
            "intervalo de confianza para b1: (0.4192186844374576, 0.8671410401752792)\n",
            "respuesta 8= no se verifican\n",
            "valor_p de shepiro:0.901827735700704\n",
            "cal 1: 69.54941193344808\n",
            "cal 2: 72.76531124497993\n",
            "cal 3 78.55393000573724\n",
            "Sxx: 3718.3999999999996\n",
            "Sxy: 2391.6\n",
            "Syy: 2057.733333333333\n",
            "SSE: 519.5043746414227\n",
            "SST: 2057.733333333333\n",
            "SSR: 1538.228958691911\n",
            "MSR: 1538.228958691911\n",
            "MSE: 39.961874972417135\n",
            "p_value: 1.0\n"
          ]
        },
        {
          "output_type": "display_data",
          "data": {
            "text/plain": [
              "<Figure size 640x480 with 1 Axes>"
            ],
            "image/png": "[encoded data removed]"
          },
          "metadata": {}
        },
        {
          "output_type": "display_data",
          "data": {
            "text/plain": [
              "<Figure size 640x480 with 1 Axes>"
            ],
            "image/png": "[encoded data removed]"
          },
          "metadata": {}
        }
      ]
    },
    {
      "cell_type": "code",
      "source": [
        "import pandas as pd\n",
        "import matplotlib.pyplot as plt\n",
        "df=pd.DataFrame({\n",
        "    \"x\":[59,92,72,90,95,87,89,77,76,65,97,42,94,62,91],\n",
        "    \"y\":[64,84,77,80,77,81,80,84,80,69,83,40,78,65,90]})\n",
        "df\n",
        "plt.scatter(df[\"x\"],df[\"y\"])\n",
        "\n",
        "from scipy.stats import pearsonr\n",
        "r,valor_p=pearsonr(df[\"x\"],df[\"y\"])\n",
        "print(f\"coeficiente de correlacion: {r}\")\n",
        "print(f\"valor_p de pearsonr: {valor_p}\")\n",
        "print(f\"coeficiente de determinacion: {r**2}\")\n",
        "from sklearn.linear_model import LinearRegression\n",
        "modelo= LinearRegression()\n",
        "modelo.fit(df[[\"x\"]],df[\"y\"])\n",
        "Yc=modelo.predict(df[[\"x\"]])"
      ],
      "metadata": {
        "colab": {
          "base_uri": "https://localhost:8080/",
          "height": 482
        },
        "id": "91wJaSzSrXWI",
        "outputId": "2c788ac4-09f8-482d-a0af-8396a0b3490d"
      },
      "execution_count": 5,
      "outputs": [
        {
          "output_type": "stream",
          "name": "stdout",
          "text": [
            "coeficiente de correlacion: 0.8646014213752984\n",
            "valor_p de pearsonr: 3.1971844162345274e-05\n",
            "coeficiente de determinacion: 0.7475356178441863\n"
          ]
        },
        {
          "output_type": "display_data",
          "data": {
            "text/plain": [
              "<Figure size 640x480 with 1 Axes>"
            ],
            "image/png": "[encoded data removed]"
          },
          "metadata": {}
        }
      ]
    },
    {
      "cell_type": "markdown",
      "source": [
        "### Problema 2\n",
        "William Hawkins, vicepresidente de personal de la International Motors, trabaja en la relación entre el salario de un trabajador y el porcentaje de ausentismo. Hawkins dividió el intervalo de salarios de International en 12 grados o niveles (1 es el menor grado, 12 el más alto) y después muestreó aleatoriamente a un grupo de trabajadores. Determinó el grado de salario de cada trabajador y el número de días que ese empleado había faltado en los últimos 3 años.\n",
        "\n",
        "| Categoría de salario | 11 | 10 | 8  | 5  | 9  | 7  | 3  |\n",
        "|----------------------|----|----|----|----|----|----|----|\n",
        "| Ausencias           | 18 | 17 | 29 | 36 | 11 | 28 | 35 |\n",
        "\n",
        "| Categoría de salario | 11 | 8  | 7  | 2  | 9  | 8  | 3  |\n",
        "|----------------------|----|----|----|----|----|----|----|\n",
        "| Ausencias           | 14 | 20 | 32 | 39 | 16 | 31 | 40 |\n",
        "\n",
        "1.   Establesca una variable dependiente ($Y$) y una variable independiente ($X$).\n",
        "2.   Realice un diagrama de dispersión para estos datos.\n",
        "3. ¿Los datos soportan la suposición de linealidad?\n",
        "4. Calcule el coeficiente de correlación e interprete el resultado.\n",
        "5. Calcule el coeficiente de determinación e interprete el resultado.\n",
        "6. Obtenga la recta de regresión ajustada y grafíquelo sobre el gráfico de dispersión.\n",
        "7. Obtenga un intervalo de confianza del 95% para la pendiente de la recta de regresión ajustada ($b_1$)\n",
        "8. Calcule los residuales y trace un nuevo gráfico de dispersión. Comente, ¿Parece que se verifican los supuestos?\n",
        "9. Realice la prueba de Shapiro para los residuales y comente el resultado.\n",
        "10. Realice la prueba de Brausch-Pagan para los residuales y comente el resultado.\n",
        "11. Utiliza la recta de regresión para interpolar dos valores y extrapolar uno. Comenta estos resultados.\n",
        "12. Realice una tabla ANOVA e interprete el resultado."
      ],
      "metadata": {
        "id": "xgzyiByuTttS"
      }
    },
    {
      "cell_type": "code",
      "source": [
        "# 1.Establesca una variable dependiente ( Y ) y una variable\n",
        "# independiente ( X ).\n",
        "\n",
        "# variable independiente: ausencias\n",
        "# variable dependiente: salario\n",
        "import numpy as np\n",
        "\n",
        "x= np.array([18,17,29,36,11,28,35,14,20,32,39,16,31,40])\n",
        "y= np.array ([11,10,8,5,9,7,3,11,8,7,2,9,8,3])\n",
        "\n",
        "# 2. Realice un diagrama de dispersión para estos datos.\n",
        "import matplotlib.pyplot as plt\n",
        "\n",
        "plt.scatter(x,y, color=\"blue\")\n",
        "plt.xlabel(\"ausencias\")\n",
        "plt.ylabel(\"salario\")\n",
        "plt.title(\"Grafico de dispersion\")\n",
        "plt.grid()\n",
        "\n",
        "# 3. ¿Los datos soportan la suposición de linealidad?\n",
        "print(\"Respuesta 3-si,soporta la supocision de linealidad\")\n",
        "\n",
        "# 4. Calcule el coeficiente de correlación e interprete el resultado\n",
        "Sxx = np.sum((x - np.mean(x))**2)\n",
        "Sxy = np.sum((x - np.mean(x))*(y  - np.mean(y)))\n",
        "Syy = np.sum((y - np.mean(y))**2)\n",
        "\n",
        "# 5 Calcule el coeficiente de determinación e interprete el resultado.\n",
        "r = Sxy / np.sqrt(Sxx * Syy)\n",
        "print('Coeficiente de correlacion:  ',  r)\n",
        "print('coeficiente de determinacion:  ',  r** 2)\n",
        "\n",
        "# 6 Obtenga la recta de regresión ajustada y grafíquelo sobre el gráfico de dispersión\n",
        "b1  =  Sxy / Sxx\n",
        "b0  = np.mean(y)  - b1  * np.mean(x)\n",
        "print(f\"pendiente: {b1}\")\n",
        "print(f\"intercepto: {b0}\")\n",
        "yc  = b1 * x + b0\n",
        "plt.plot(x, yc, color = 'red')\n",
        "\n",
        "# 7 Obtenga un intervalo de confianza del 95% para la pendiente de la recta de regresión ajustada ( b1 )\n",
        "nivel_de_significancia = 0.05\n",
        "from scipy.stats import t\n",
        "t = t.ppf(1 - nivel_de_significancia / 2, len(y)  - 2)\n",
        "se_b1 = np.sqrt(np.sum((y - yc)**2) / (len(y) -2))  / np.sqrt (Sxx)\n",
        "confianza_b1  = (b1 - t * se_b1, b1 + t * se_b1)\n",
        "print(f\"intervalo de confianza para b1: {confianza_b1}\")\n",
        "\n",
        "# 8 Calcule los residuales y trace un nuevo gráfico de dispersión. Comente, ¿Parece que se verifican los supuestos?\n",
        "residuales = y  - yc\n",
        "plt.figure()\n",
        "plt.scatter(x,  residuales, color = 'purple')\n",
        "plt.xlabel('Ausencias')\n",
        "plt.ylabel('Salarios')\n",
        "plt.title(\"grafico de residuales\")\n",
        "plt.axhline(  y=0 ,  color = \"purple\", linestyle  = \"--\")\n",
        "print(\"Respuesta 8-si se verifican\")\n",
        "\n",
        "# 9 Realice la prueba de Shapiro para los residuales y comente el resultado\n",
        "from scipy.stats import shapiro\n",
        "_,valor_p_sh  = shapiro(residuales)\n",
        "print(f\"valor_p de shepiro:{valor_p_sh}\")\n",
        "\n",
        "# 10 Realice la prueba de Brausch-Pagan para los residuales y comente el resultado\n",
        "\n",
        "# 11 Utiliza la recta de regresión para interpolar dos valores y extrapolar uno. Comenta estos resultados\n",
        "print(f\"Respuesta 11: {b1*25+b0}\")\n",
        "\n",
        "# 12 Realice una tabla ANOVA e interprete el resultado.\n",
        "import scipy.stats as st\n",
        "print(f\"Sxx: {Sxx}\")\n",
        "print(f\"Sxy: {Sxy}\")\n",
        "print(f\"Syy: {Syy}\")\n",
        "print(f\"SSE: {np.sum(residuales**2)}\")\n",
        "print(f\"SST: {np.sum((y-np.mean(y))**2)}\")\n",
        "print(f\"SSR: {np.sum((yc-np.mean(y))**2)}\")\n",
        "print(f\"MSR: {np.sum((yc-np.mean(y))**2)/1}\")\n",
        "print(f\"MSE: {np.sum(residuales**2)/(len(y)-2)}\")\n",
        "print(f\"p_value: {1-st.f.cdf((np.sum((yc-np.mean(y))*2)/1)/(np.sum(residuales*2)/(len(y)-2)),1,len(y)-2)}\")"
      ],
      "metadata": {
        "colab": {
          "base_uri": "https://localhost:8080/",
          "height": 1000
        },
        "id": "UZqIqz-aq7wd",
        "outputId": "23edf804-867d-4ae6-f29f-669cd137face"
      },
      "execution_count": 6,
      "outputs": [
        {
          "output_type": "stream",
          "name": "stdout",
          "text": [
            "Respuesta 3-si,soporta la supocision de linealidad\n",
            "Coeficiente de correlacion:   -0.8801262960169057\n",
            "coeficiente de determinacion:   0.7746222969404379\n",
            "pendiente: -0.2618136813681368\n",
            "intercepto: 14.058843384338434\n",
            "intervalo de confianza para b1: (-0.35063804722453135, -0.1729893155117423)\n",
            "Respuesta 8-si se verifican\n",
            "valor_p de shepiro:0.4172971767713699\n",
            "Respuesta 11: 7.513501350135014\n",
            "Sxx: 1269.7142857142858\n",
            "Sxy: -332.42857142857144\n",
            "Syy: 112.35714285714285\n",
            "SSE: 25.32279477947794\n",
            "SST: 112.35714285714285\n",
            "SSR: 87.03434807766493\n",
            "MSR: 87.03434807766493\n",
            "MSE: 2.1102328982898286\n",
            "p_value: 1.0\n"
          ]
        },
        {
          "output_type": "display_data",
          "data": {
            "text/plain": [
              "<Figure size 640x480 with 1 Axes>"
            ],
            "image/png": "[encoded data removed]"
          },
          "metadata": {}
        },
        {
          "output_type": "display_data",
          "data": {
            "text/plain": [
              "<Figure size 640x480 with 1 Axes>"
            ],
            "image/png": "[encoded data removed]"
          },
          "metadata": {}
        }
      ]
    },
    {
      "cell_type": "code",
      "source": [],
      "metadata": {
        "id": "sYLS_Iu6K1sF"
      },
      "execution_count": null,
      "outputs": []
    },
    {
      "cell_type": "markdown",
      "source": [
        "### Problema 3\n",
        "A menudo, quienes hacen la contabilidad de costos estiman los gastos generales con base en el nivel de producción. En Standard Knitting Co. han reunido información acerca de los gastos generales y las unidades producidas en diferentes plantas.\n",
        "\n",
        "| Gastos generales | 191 | 170 | 272 | 155 | 280 | 173 | 234 | 116 | 153 | 178 |\n",
        "|------------------|-----|-----|-----|-----|-----|-----|-----|-----|-----|-----|\n",
        "| Unidades        |  40 |  42 |  53 |  35 |  56 |  39 |  48 |  30 |  37 |  40 |\n",
        "\n",
        "1.   Establesca una variable dependiente ($Y$) y una variable independiente ($X$).\n",
        "2.   Realice un diagrama de dispersión para estos datos.\n",
        "3. ¿Los datos soportan la suposición de linealidad?\n",
        "4. Calcule el coeficiente de correlación e interprete el resultado.\n",
        "5. Calcule el coeficiente de determinación e interprete el resultado.\n",
        "6. Obtenga la recta de regresión ajustada y grafíquelo sobre el gráfico de dispersión.\n",
        "7. Obtenga un intervalo de confianza del 95% para la pendiente de la recta de regresión ajustada ($b_1$)\n",
        "8. Calcule los residuales y trace un nuevo gráfico de dispersión. Comente, ¿Parece que se verifican los supuestos?\n",
        "9. Realice la prueba de Shapiro para los residuales y comente el resultado.\n",
        "10. Realice la prueba de Brausch-Pagan para los residuales y comente el resultado.\n",
        "11. Utiliza la recta de regresión para interpolar dos valores y extrapolar uno. Comenta estos resultados.\n",
        "12. Realice una tabla ANOVA e interprete el resultado.\n"
      ],
      "metadata": {
        "id": "fNYVSwWjchRu"
      }
    },
    {
      "cell_type": "code",
      "source": [],
      "metadata": {
        "id": "A57YusZWQX8i"
      },
      "execution_count": null,
      "outputs": []
    },
    {
      "cell_type": "markdown",
      "source": [
        "### Problema 4\n",
        "Las ventas de línea blanca varían según el estado del mercado de casas nuevas: cuando las ventas de casas nuevas son buenas, también lo son las de lavaplatos, lavadoras de ropa, secadoras y refrigeradores.\n",
        "Una asociación de comercio compiló los siguientes datos históricos (en miles de unidades) de las ventas de línea blanca y la construcción de casas.\n",
        "\n",
        "| Construcción de casas (miles) | Ventas de línea blanca (miles) |\n",
        "|-------------------------------|--------------------------------|\n",
        "| 2.0                           | 5.0                            |\n",
        "| 2.5                           | 5.5                            |\n",
        "| 3.2                           | 6.0                            |\n",
        "| 3.6                           | 7.0                            |\n",
        "| 3.7                           | 7.2                            |\n",
        "| 4.0                           | 7.7                            |\n",
        "| 4.2                           | 8.4                            |\n",
        "| 4.6                           | 9.0                            |\n",
        "| 4.8                           | 9.7                            |\n",
        "| 5.0                           | 10.0                           |\n",
        "\n",
        "1.   Establesca una variable dependiente ($Y$) y una variable independiente ($X$).\n",
        "2.   Realice un diagrama de dispersión para estos datos.\n",
        "3. ¿Los datos soportan la suposición de linealidad?\n",
        "4. Calcule el coeficiente de correlación e interprete el resultado.\n",
        "5. Calcule el coeficiente de determinación e interprete el resultado.\n",
        "6. Obtenga la recta de regresión ajustada y grafíquelo sobre el gráfico de dispersión.\n",
        "7. Obtenga un intervalo de confianza del 95% para la pendiente de la recta de regresión ajustada ($b_1$)\n",
        "8. Calcule los residuales y trace un nuevo gráfico de dispersión. Comente, ¿Parece que se verifican los supuestos?\n",
        "9. Realice la prueba de Shapiro para los residuales y comente el resultado.\n",
        "10. Realice la prueba de Brausch-Pagan para los residuales y comente el resultado.\n",
        "11. Utiliza la recta de regresión para interpolar dos valores y extrapolar uno. Comenta estos resultados.\n",
        "12. Realice una tabla ANOVA e interprete el resultado."
      ],
      "metadata": {
        "id": "9-_ZpHNattbm"
      }
    },
    {
      "cell_type": "code",
      "source": [],
      "metadata": {
        "id": "GPjzAEM-t34D"
      },
      "execution_count": null,
      "outputs": []
    },
    {
      "cell_type": "markdown",
      "source": [
        "### Problema 5\n",
        "William C. Andrews, consultor de comportamiento organizacional de Victory Motorcycles, ha diseñado una prueba para mostrar a los supervisores de la compañía los peligros de sobrevigilar a sus trabajadores.\n",
        "Un trabajador de la línea de ensamble tiene a su cargo una serie de tareas complicadas. Durante el desempeño del trabajador, un inspector lo interrumpe constantemente para ayudarlo a terminar las tareas.\n",
        "El trabajador, después de terminar su trabajo, recibe una prueba psicológica diseñada para medir la hostilidad del trabajador hacia la autoridad\n",
        "(una alta puntuación implica una hostilidad baja). A ocho distintos trabajadores se les asignaron las tareas y luego se les interrumpió para darles instrucciones útiles un número variable de veces (línea X).\n",
        "Sus calificaciones en la prueba de hostilidad se dan en el renglón Y.\n",
        "\n",
        "| número interrupciones al trabajador |  5  | 10  | 10  | 15  | 15  | 20  | 20  | 25  |\n",
        "|-----------------------------------------|----|----|----|----|----|----|----|----|\n",
        "| calificación del trabajador en la prueba de hostilidad | 58  | 41  | 45  | 27  | 26  | 12  | 16  |  3  |\n",
        "\n",
        "1.   Establesca una variable dependiente ($Y$) y una variable independiente ($X$).\n",
        "2.   Realice un diagrama de dispersión para estos datos.\n",
        "3. ¿Los datos soportan la suposición de linealidad?\n",
        "4. Calcule el coeficiente de correlación e interprete el resultado.\n",
        "5. Calcule el coeficiente de determinación e interprete el resultado.\n",
        "6. Obtenga la recta de regresión ajustada y grafíquelo sobre el gráfico de dispersión.\n",
        "7. Obtenga un intervalo de confianza del 95% para la pendiente de la recta de regresión ajustada ($b_1$)\n",
        "8. Calcule los residuales y trace un nuevo gráfico de dispersión. Comente, ¿Parece que se verifican los supuestos?\n",
        "9. Realice la prueba de Shapiro para los residuales y comente el resultado.\n",
        "10. Realice la prueba de Brausch-Pagan para los residuales y comente el resultado.\n",
        "11. Utiliza la recta de regresión para interpolar dos valores y extrapolar uno. Comenta estos resultados.\n",
        "12. Realice una tabla ANOVA e interprete el resultado."
      ],
      "metadata": {
        "id": "x6oH2vATt4Sm"
      }
    },
    {
      "cell_type": "code",
      "source": [],
      "metadata": {
        "id": "5nsXczRfulp8"
      },
      "execution_count": null,
      "outputs": []
    }
  ]
}